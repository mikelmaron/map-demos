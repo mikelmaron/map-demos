{
 "cells": [
  {
   "cell_type": "code",
   "execution_count": 2,
   "id": "359dfb94",
   "metadata": {},
   "outputs": [],
   "source": [
    "import pandas as pd\n",
    "import geopandas as gpd"
   ]
  },
  {
   "cell_type": "code",
   "execution_count": 3,
   "id": "a2bfa42b",
   "metadata": {},
   "outputs": [],
   "source": [
    "df = pd.read_csv('cities_for_map.csv')"
   ]
  },
  {
   "cell_type": "code",
   "execution_count": 4,
   "id": "cff34899",
   "metadata": {},
   "outputs": [],
   "source": [
    "df_2022 = df[df['Year'] == 2022] "
   ]
  },
  {
   "cell_type": "code",
   "execution_count": 5,
   "id": "3e21b300",
   "metadata": {},
   "outputs": [],
   "source": [
    "gdf_2022 = gpd.GeoDataFrame(df_2022, geometry=gpd.GeoSeries.from_xy(df['Longitude'], df['Latitude']), crs=4326)"
   ]
  },
  {
   "cell_type": "code",
   "execution_count": 7,
   "id": "77ac4437",
   "metadata": {},
   "outputs": [],
   "source": [
    "with open('cities_2022.geojson' , 'w') as file:\n",
    "    file.write(gdf_2022.to_json())"
   ]
  },
  {
   "cell_type": "code",
   "execution_count": 4,
   "id": "807a99e8",
   "metadata": {},
   "outputs": [],
   "source": [
    "df_sites = pd.read_csv('sites_for_map.csv')\n",
    "gdf_sites = gpd.GeoDataFrame(df_sites, geometry=gpd.GeoSeries.from_xy(df_sites['Longitude'], df_sites['Latitude']), crs=4326)\n",
    "\n",
    "with open('sites.geojson','w') as file:\n",
    "    file.write(gdf_sites.to_json())"
   ]
  },
  {
   "cell_type": "code",
   "execution_count": null,
   "id": "b944d569",
   "metadata": {},
   "outputs": [],
   "source": []
  }
 ],
 "metadata": {
  "kernelspec": {
   "display_name": "Python 3 (ipykernel)",
   "language": "python",
   "name": "python3"
  },
  "language_info": {
   "codemirror_mode": {
    "name": "ipython",
    "version": 3
   },
   "file_extension": ".py",
   "mimetype": "text/x-python",
   "name": "python",
   "nbconvert_exporter": "python",
   "pygments_lexer": "ipython3",
   "version": "3.10.6"
  }
 },
 "nbformat": 4,
 "nbformat_minor": 5
}
